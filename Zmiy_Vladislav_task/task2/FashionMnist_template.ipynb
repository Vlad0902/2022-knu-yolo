{
  "cells": [
    {
      "cell_type": "markdown",
      "id": "af4b9b8a",
      "metadata": {
        "id": "af4b9b8a"
      },
      "source": [
        "# Train NN model on the FashionMNIST data\n",
        "\n",
        "https://www.kaggle.com/zalando-research/fashionmnist\n",
        "\n",
        "Fashion-MNIST is a dataset of Zalando's article images—consisting of a training set of 60,000 examples and a test set of 10,000 examples. Each example is a 28x28 grayscale image, associated with a label from 10 classes. Zalando intends Fashion-MNIST to serve as a direct drop-in replacement for the original MNIST dataset for benchmarking machine learning algorithms. It shares the same image size and structure of training and testing splits.\n",
        "\n",
        "You may refer to this tutorial about the original Mnist:\n",
        "https://towardsdatascience.com/handwritten-digit-mnist-pytorch-977b5338e627\n",
        "\n",
        "Or any other tutorial you may find online:\n",
        "https://www.kaggle.com/zalando-research/fashionmnist/code"
      ]
    },
    {
      "cell_type": "code",
      "execution_count": 70,
      "id": "a60fad90",
      "metadata": {
        "id": "a60fad90"
      },
      "outputs": [],
      "source": [
        "import torch\n",
        "from torch import nn, optim\n",
        "from torch.utils.data import DataLoader\n",
        "from torchvision import datasets\n",
        "from torchvision.transforms import ToTensor, Lambda, Compose\n",
        "import matplotlib.pyplot as plt\n",
        "%matplotlib inline"
      ]
    },
    {
      "cell_type": "code",
      "execution_count": 71,
      "id": "33c19eee",
      "metadata": {
        "id": "33c19eee"
      },
      "outputs": [],
      "source": [
        "training_data = datasets.FashionMNIST(\n",
        "    root=\"data\",\n",
        "    train=True,\n",
        "    download=True,\n",
        "    transform=ToTensor()\n",
        ")\n",
        "\n",
        "test_data = datasets.FashionMNIST(\n",
        "    root=\"data\",\n",
        "    train=False,\n",
        "    download=True,\n",
        "    transform=ToTensor()\n",
        ")"
      ]
    },
    {
      "cell_type": "code",
      "execution_count": 72,
      "id": "605d1835",
      "metadata": {
        "colab": {
          "base_uri": "https://localhost:8080/",
          "height": 281
        },
        "id": "605d1835",
        "outputId": "8ecf1dc2-73ba-42c8-8cfd-82263fe042c3"
      },
      "outputs": [
        {
          "output_type": "display_data",
          "data": {
            "image/png": "[encoded data removed]",
            "text/plain": [
              "<Figure size 432x288 with 1 Axes>"
            ]
          },
          "metadata": {
            "needs_background": "light"
          }
        }
      ],
      "source": [
        "# Lest read a random image from the dataset and draw it\n",
        "image, label = training_data[17]\n",
        "plt.imshow(image[0], \"gray\")\n",
        "plt.title(f\"Image of class: {label}\")\n",
        "plt.show()"
      ]
    },
    {
      "cell_type": "code",
      "execution_count": 73,
      "id": "f490ddd3",
      "metadata": {
        "colab": {
          "base_uri": "https://localhost:8080/"
        },
        "id": "f490ddd3",
        "outputId": "3531cc5c-5008-4c5f-d58b-96a5f98c10f7"
      },
      "outputs": [
        {
          "output_type": "execute_result",
          "data": {
            "text/plain": [
              "torch.Size([1, 28, 28])"
            ]
          },
          "metadata": {},
          "execution_count": 73
        }
      ],
      "source": [
        "# Lets check image shape\n",
        "image.shape"
      ]
    },
    {
      "cell_type": "code",
      "execution_count": 74,
      "id": "16f15225",
      "metadata": {
        "colab": {
          "base_uri": "https://localhost:8080/"
        },
        "id": "16f15225",
        "outputId": "e670a5a4-e0c1-45c0-fd3a-afd47567b597"
      },
      "outputs": [
        {
          "output_type": "execute_result",
          "data": {
            "text/plain": [
              "['T-shirt/top',\n",
              " 'Trouser',\n",
              " 'Pullover',\n",
              " 'Dress',\n",
              " 'Coat',\n",
              " 'Sandal',\n",
              " 'Shirt',\n",
              " 'Sneaker',\n",
              " 'Bag',\n",
              " 'Ankle boot']"
            ]
          },
          "metadata": {},
          "execution_count": 74
        }
      ],
      "source": [
        "# Lets see all the classes available\n",
        "training_data.classes"
      ]
    },
    {
      "cell_type": "markdown",
      "id": "bf2a7f78",
      "metadata": {
        "id": "bf2a7f78"
      },
      "source": [
        "# Task 1:\n",
        "\n",
        "Create a DataLoader objects for train and test"
      ]
    },
    {
      "cell_type": "code",
      "execution_count": 75,
      "id": "97c9881c",
      "metadata": {
        "id": "97c9881c"
      },
      "outputs": [],
      "source": [
        "train_loader = torch.utils.data.DataLoader(training_data, batch_size=32, shuffle= True )\n",
        "test_loader = torch.utils.data.DataLoader(test_data, batch_size=32, shuffle= True )\n"
      ]
    },
    {
      "cell_type": "markdown",
      "id": "0695343f",
      "metadata": {
        "id": "0695343f"
      },
      "source": [
        "# Task 2:\n",
        "\n",
        "Create a Neural Network"
      ]
    },
    {
      "cell_type": "code",
      "execution_count": 77,
      "id": "f9b3d73d",
      "metadata": {
        "id": "f9b3d73d"
      },
      "outputs": [],
      "source": [
        "input_size = 784 \n",
        "hidden_size = [128, 32] \n",
        "output_size = 10 \n",
        "model = nn.Sequential(nn.Linear(input_size, hidden_size[0]), \n",
        "                      nn.ReLU(), \n",
        "                      nn.Linear(hidden_size[0], hidden_size[1] ),\n",
        "                      nn.ReLU(), \n",
        "                      nn.Linear(hidden_size[1], output_size), \n",
        "                      nn.LogSoftmax(dim=1)) \n"
      ]
    },
    {
      "cell_type": "markdown",
      "id": "e13d5117",
      "metadata": {
        "id": "e13d5117"
      },
      "source": [
        "# Task 3:\n",
        "\n",
        "Specify loss and optimizer"
      ]
    },
    {
      "cell_type": "code",
      "execution_count": 78,
      "id": "8cd11bf9",
      "metadata": {
        "id": "8cd11bf9"
      },
      "outputs": [],
      "source": [
        "loss_criterion = nn.NLLLoss()\n",
        "\n",
        "optimizer = optim.SGD(model.parameters(), lr=0.003, momentum=0.9)"
      ]
    },
    {
      "cell_type": "markdown",
      "id": "605caa5b",
      "metadata": {
        "id": "605caa5b"
      },
      "source": [
        "# Task 3:\n",
        "\n",
        "Train model using for loop"
      ]
    },
    {
      "cell_type": "code",
      "execution_count": 79,
      "id": "a724b721",
      "metadata": {
        "id": "a724b721",
        "colab": {
          "base_uri": "https://localhost:8080/"
        },
        "outputId": "31742409-3fa8-425a-e163-14b859015476"
      },
      "outputs": [
        {
          "output_type": "stream",
          "name": "stdout",
          "text": [
            "Epoch 1\n",
            " Training loss: 0.7952102719545364\n",
            "Epoch 2\n",
            " Training loss: 0.47889505796432497\n",
            "Epoch 3\n",
            " Training loss: 0.4201703635573387\n",
            "Epoch 4\n",
            " Training loss: 0.38670456885496773\n",
            "Epoch 5\n",
            " Training loss: 0.36308225065867106\n",
            "Epoch 6\n",
            " Training loss: 0.3456089167912801\n",
            "Epoch 7\n",
            " Training loss: 0.33081396451393763\n",
            "Epoch 8\n",
            " Training loss: 0.31870436617136\n",
            "Epoch 9\n",
            " Training loss: 0.30722771431207657\n",
            "Epoch 10\n",
            " Training loss: 0.29642427366574603\n",
            "Epoch 11\n",
            " Training loss: 0.28761260614991185\n",
            "Epoch 12\n",
            " Training loss: 0.28136290806333225\n",
            "Epoch 13\n",
            " Training loss: 0.2713015504221121\n",
            "Epoch 14\n",
            " Training loss: 0.26481320516467094\n",
            "Epoch 15\n",
            " Training loss: 0.25943031289776164\n",
            "Epoch 16\n",
            " Training loss: 0.2537860222220421\n",
            "Epoch 17\n",
            " Training loss: 0.24878144743641217\n",
            "Epoch 18\n",
            " Training loss: 0.2416823262691498\n",
            "Epoch 19\n",
            " Training loss: 0.23652874922156333\n",
            "Epoch 20\n",
            " Training loss: 0.23408244201044243\n"
          ]
        }
      ],
      "source": [
        "device = torch.device('cpu')\n",
        "EPOCHS  = 20\n",
        "for epoch in range(EPOCHS):\n",
        "    run_loss = 0\n",
        "    for batch, (X, y) in enumerate(train_loader):\n",
        "        X, y = X.to(device), y.to(device)\n",
        "       \n",
        "        pred = model(X.view(X.shape[0], -1))\n",
        "        loss = loss_criterion(pred, y)\n",
        "        optimizer.zero_grad()\n",
        "        loss.backward()\n",
        "        optimizer.step()\n",
        "        run_loss += loss.item()\n",
        "    print(f\"Epoch {epoch + 1}\\n Training loss: {run_loss/len(train_loader)}\") "
      ]
    },
    {
      "cell_type": "markdown",
      "id": "72d61b00",
      "metadata": {
        "id": "72d61b00"
      },
      "source": [
        "# Task 4:\n",
        "\n",
        "Report accuracy from train set, and test set independently"
      ]
    },
    {
      "cell_type": "code",
      "source": [
        "def accuracy(loader, mod):\n",
        "  correct_count, all_count = 0, 0\n",
        "  preds = torch.tensor([])\n",
        "  true_vals = torch.tensor([])\n",
        "  for x, y in loader:\n",
        "    true_vals = torch.cat((true_vals, y), 0)\n",
        "    for i in range(len(y)):\n",
        "      img = x[i].view(1, 784)\n",
        "      with torch.no_grad():\n",
        "          logps = mod(img)\n",
        "      ps = torch.exp(logps)\n",
        "      _, pred_label = torch.max(ps, dim = 1)\n",
        "      preds = torch.cat((preds, pred_label), 0)\n",
        "      true_label = y[i]\n",
        "      if(true_label == pred_label.item()):\n",
        "        correct_count += 1\n",
        "      all_count += 1\n",
        "\n",
        "  return all_count, correct_count/all_count, preds, true_vals\n",
        "\n",
        "train_count, acc_train, train_preds, train_true_val = accuracy(train_loader, model)\n",
        "print(f\"Number Of Images Train: {train_count}, \\n Accuracy(train dataset): {acc_train} \\n\")\n",
        "test_count, acc_test, test_preds, test_true_val = accuracy(test_loader, model)\n",
        "print(f\"Number Of Images Test: {test_count}, \\n Accuracy(test dataset): {acc_test}\\n\")"
      ],
      "metadata": {
        "colab": {
          "base_uri": "https://localhost:8080/"
        },
        "id": "tEe3gZPDzEdJ",
        "outputId": "05d75c8b-27d8-4dd2-e39f-ba076ce5284a"
      },
      "id": "tEe3gZPDzEdJ",
      "execution_count": 80,
      "outputs": [
        {
          "output_type": "stream",
          "name": "stdout",
          "text": [
            "Number Of Images Train: 60000, \n",
            " Accuracy(train dataset): 0.9193166666666667 \n",
            "\n",
            "Number Of Images Test: 10000, \n",
            " Accuracy(test dataset): 0.8825\n",
            "\n"
          ]
        }
      ]
    },
    {
      "cell_type": "markdown",
      "id": "0bfcc3eb",
      "metadata": {
        "id": "0bfcc3eb"
      },
      "source": [
        "# Task 5:\n",
        "\n",
        "Report confussion matrix for the test set\n",
        "\n",
        "Expected format:\n",
        "```\n",
        "array([[0., 0., 0., 0., 0., 0., 0., 0., 0., 0.],\n",
        "       [0., 0., 0., 0., 0., 0., 0., 0., 0., 0.],\n",
        "       [0., 0., 0., 0., 0., 0., 0., 0., 0., 0.],\n",
        "       [0., 0., 0., 0., 0., 0., 0., 0., 0., 0.],\n",
        "       [0., 0., 0., 0., 0., 0., 0., 0., 0., 0.],\n",
        "       [0., 0., 0., 0., 0., 0., 0., 0., 0., 0.],\n",
        "       [0., 0., 0., 0., 0., 0., 0., 0., 0., 0.],\n",
        "       [0., 0., 0., 0., 0., 0., 0., 0., 0., 0.],\n",
        "       [0., 0., 0., 0., 0., 0., 0., 0., 0., 0.],\n",
        "       [0., 0., 0., 0., 0., 0., 0., 0., 0., 0.]])\n",
        "```"
      ]
    },
    {
      "cell_type": "code",
      "source": [
        "from sklearn.metrics import confusion_matrix\n",
        "\n",
        "conf_matrix = confusion_matrix(test_true_val, test_preds)\n",
        "print(f'Confussion matrix: \\n {conf_matrix}')"
      ],
      "metadata": {
        "colab": {
          "base_uri": "https://localhost:8080/"
        },
        "id": "VTZO8ANDN4u4",
        "outputId": "7734d76f-a05c-4543-c582-fa150e606bea"
      },
      "id": "VTZO8ANDN4u4",
      "execution_count": 81,
      "outputs": [
        {
          "output_type": "stream",
          "name": "stdout",
          "text": [
            "Confussion matrix: \n",
            " [[834   4  24  32   7   2  86   0  11   0]\n",
            " [  0 976   1  17   4   0   2   0   0   0]\n",
            " [ 20   2 799  17 110   2  49   0   1   0]\n",
            " [ 19  15  11 883  51   0  17   0   4   0]\n",
            " [  0   1  77  19 860   0  42   0   1   0]\n",
            " [  0   0   0   1   0 943   0  40   2  14]\n",
            " [125   6  95  41  80   0 642   0  11   0]\n",
            " [  0   0   0   0   0   7   0 956   0  37]\n",
            " [  4   1   6   5   5   2   3   5 969   0]\n",
            " [  0   0   0   0   0   5   1  31   0 963]]\n"
          ]
        }
      ]
    },
    {
      "cell_type": "markdown",
      "id": "ba2a7f90",
      "metadata": {
        "id": "ba2a7f90"
      },
      "source": [
        "# Task 6 (optional):\n",
        "\n",
        "Train LogisticRegression and DecisionTree models on the same data\n",
        "Compare their performance to the NN"
      ]
    },
    {
      "cell_type": "code",
      "execution_count": 97,
      "id": "f009b458",
      "metadata": {
        "id": "f009b458",
        "colab": {
          "base_uri": "https://localhost:8080/"
        },
        "outputId": "9bfcaffa-6621-41aa-a123-316570dd3b37"
      },
      "outputs": [
        {
          "output_type": "stream",
          "name": "stdout",
          "text": [
            "Epoch 1\n",
            "\n",
            "Epoch 2\n",
            "\n",
            "Epoch 3\n",
            "\n",
            "Epoch 4\n",
            "\n",
            "Epoch 5\n",
            "\n",
            "Epoch 6\n",
            "\n",
            "Epoch 7\n",
            "\n",
            "Epoch 8\n",
            "\n",
            "Epoch 9\n",
            "\n",
            "Epoch 10\n",
            "\n",
            "Epoch 11\n",
            "\n",
            "Epoch 12\n",
            "\n",
            "Epoch 13\n",
            "\n",
            "Epoch 14\n",
            "\n",
            "Epoch 15\n",
            "\n"
          ]
        }
      ],
      "source": [
        "class Logistic_Regression(torch.nn.Module):\n",
        " def __init__(self):\n",
        "   super(Logistic_Regression,self).__init__()\n",
        "   self.layer1 = torch.nn.Linear(784, 128)\n",
        "   self.layer2 = torch.nn.Linear(128, 64)\n",
        "   self.layer3 = torch.nn.Linear(64, 10)\n",
        " def forward(self,x):\n",
        "   y_predict = self.layer1(x)\n",
        "   y_predict = torch.sigmoid(self.layer2(y_predict))\n",
        "   y_predict = torch.sigmoid(self.layer3(y_predict))\n",
        "   return y_predict\n",
        "\n",
        "logistic_regression = Logistic_Regression()\n",
        "\n",
        "EPOCHS  = 15\n",
        "for epoch in range(EPOCHS):\n",
        "\n",
        "    for batch, (X, y) in enumerate(train_loader):\n",
        "        X, y = X.to(device), y.to(device)\n",
        "        pred = logistic_regression.forward(X.view(X.shape[0], -1))\n",
        "        loss = loss_criterion(pred, y)\n",
        "        optimizer.zero_grad()\n",
        "        loss.backward()\n",
        "        optimizer.step()\n",
        "    print(f\"Epoch {epoch + 1}\\n\")"
      ]
    },
    {
      "cell_type": "code",
      "source": [
        "train_count_lr, acc_train_lr, _, _ = accuracy(train_loader, logistic_regression.forward)\n",
        "print(f\"Number Of Images Train: {train_count_lr}, \\n Accuracy LogisticRegression (train dataset): {acc_train_lr} \\n\")\n",
        "test_count_lr, acc_test_lr, _, _ = accuracy(test_loader, logistic_regression.forward)\n",
        "print(f\"Number Of Images Test: {test_count_lr}, \\n Accuracy LogisticRegression (test dataset): {acc_test_lr}\\n\")"
      ],
      "metadata": {
        "colab": {
          "base_uri": "https://localhost:8080/"
        },
        "id": "oVNLLwZnmTpw",
        "outputId": "aa718f8e-6be6-428a-cf2b-bbd616dd0cb0"
      },
      "id": "oVNLLwZnmTpw",
      "execution_count": 98,
      "outputs": [
        {
          "output_type": "stream",
          "name": "stdout",
          "text": [
            "Number Of Images Train: 60000, \n",
            " Accuracy LogisticRegression (train dataset): 0.11681666666666667 \n",
            "\n",
            "Number Of Images Test: 10000, \n",
            " Accuracy LogisticRegression (test dataset): 0.1143\n",
            "\n"
          ]
        }
      ]
    },
    {
      "cell_type": "code",
      "source": [
        "from sklearn.tree import DecisionTreeClassifier\n",
        "\n",
        "decision_tree_model = DecisionTreeClassifier()\n",
        "\n",
        "train_dataset = training_data.data.reshape(-1, 28*28).numpy()\n",
        "train_label = training_data.targets.numpy()\n",
        "\n",
        "test_dataset = test_data.data.reshape(-1, 28*28).numpy()\n",
        "test_label = test_data.targets.numpy()\n",
        "\n",
        "decision_tree_model.fit(train_dataset, train_label)\n",
        "\n",
        "pred = decision_tree_model.predict(test_dataset)\n",
        "\n",
        "\n",
        "print(f\"Accuracy DecisionTree (test dataset): {(pred==test_label).sum()/len(test_label)}\\n\")\n"
      ],
      "metadata": {
        "colab": {
          "base_uri": "https://localhost:8080/"
        },
        "id": "kghAC2Ng0ydJ",
        "outputId": "d0126b89-9e9a-4c56-983f-f6fe9b894212"
      },
      "id": "kghAC2Ng0ydJ",
      "execution_count": 99,
      "outputs": [
        {
          "output_type": "stream",
          "name": "stdout",
          "text": [
            "Accuracy DecisionTree (test dataset): 0.7891\n",
            "\n"
          ]
        }
      ]
    }
  ],
  "metadata": {
    "kernelspec": {
      "display_name": "Python 3 (ipykernel)",
      "language": "python",
      "name": "python3"
    },
    "language_info": {
      "codemirror_mode": {
        "name": "ipython",
        "version": 3
      },
      "file_extension": ".py",
      "mimetype": "text/x-python",
      "name": "python",
      "nbconvert_exporter": "python",
      "pygments_lexer": "ipython3",
      "version": "3.9.7"
    },
    "colab": {
      "name": "FashionMnist_template.ipynb",
      "provenance": [],
      "collapsed_sections": []
    }
  },
  "nbformat": 4,
  "nbformat_minor": 5
}